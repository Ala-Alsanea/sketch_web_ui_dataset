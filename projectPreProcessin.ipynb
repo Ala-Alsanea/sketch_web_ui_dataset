{
 "cells": [
  {
   "cell_type": "code",
   "execution_count": 4,
   "metadata": {},
   "outputs": [],
   "source": [
    "import cv2 as cv\n",
    "import os\n",
    "import numpy as np\n"
   ]
  },
  {
   "cell_type": "code",
   "execution_count": 5,
   "metadata": {},
   "outputs": [],
   "source": [
    "# Set path to the directory containing your images\n",
    "path_to_images = \"path\"\n",
    "path_to_preprocessed_images = \"path\"\n"
   ]
  },
  {
   "cell_type": "code",
   "execution_count": 6,
   "metadata": {},
   "outputs": [],
   "source": [
    "preprocessed_data = []"
   ]
  },
  {
   "cell_type": "code",
   "execution_count": 18,
   "metadata": {},
   "outputs": [],
   "source": [
    "def preprocess_image(img):\n",
    "    # denoise images to certain point\n",
    "    denoised_img = cv.GaussianBlur(img, (5, 5), 0)\n",
    "    # Resize the image\n",
    "    resized_img = cv.resize(denoised_img, (300, 300))\n",
    "    # dilate\n",
    "    dilate = cv.dilate(resized_img, (5, 5), iterations=2)\n",
    "    # lapla to detect the edges\n",
    "    lap = cv.Laplacian(dilate, cv.CV_64F)\n",
    "    lap = np.uint8(np.absolute(lap))\n",
    "    # finally normalize the image\n",
    "    normalized_img = cv.normalize(\n",
    "        lap,\n",
    "        None,\n",
    "        alpha=0,\n",
    "        beta=100,\n",
    "        norm_type=cv.NORM_MINMAX,\n",
    "        dtype=cv.CV_32F,\n",
    "    )\n",
    "    return normalized_img\n"
   ]
  },
  {
   "cell_type": "code",
   "execution_count": 19,
   "metadata": {},
   "outputs": [],
   "source": [
    "for filename in os.listdir(path_to_images):\n",
    "    for image in os.listdir(os.path.join(path_to_images, filename)):\n",
    "        image_path = os.path.join(path_to_images, filename, image)\n",
    "        # Load the image\n",
    "        img = cv.imread(image_path)\n",
    "        # Preprocess the image as needed ( resize, convert to grayscale)\n",
    "        preprocessed_img = preprocess_image(img)\n",
    "        # Add the preprocessed image to the data list\n",
    "        preprocessed_data.append(preprocessed_img)\n",
    "        # Save the preprocessed image to the new directory\n",
    "        cv.imwrite(os.path.join(path_to_preprocessed_images, image), preprocessed_img)"
   ]
  }
 ],
 "metadata": {
  "kernelspec": {
   "display_name": "Python 3",
   "language": "python",
   "name": "python3"
  },
  "language_info": {
   "codemirror_mode": {
    "name": "ipython",
    "version": 3
   },
   "file_extension": ".py",
   "mimetype": "text/x-python",
   "name": "python",
   "nbconvert_exporter": "python",
   "pygments_lexer": "ipython3",
   "version": "3.10.10"
  },
  "orig_nbformat": 4
 },
 "nbformat": 4,
 "nbformat_minor": 2
}
