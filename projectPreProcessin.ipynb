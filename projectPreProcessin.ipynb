{
 "cells": [
  {
   "cell_type": "code",
   "execution_count": 4,
   "metadata": {},
   "outputs": [],
   "source": [
    "import cv2 as cv\n",
    "import os\n",
    "import numpy as np"
   ]
  },
  {
   "cell_type": "code",
   "execution_count": 18,
   "metadata": {},
   "outputs": [],
   "source": [
    "def preprocess_image(img):\n",
    "    resized_img = cv.resize(img, (500, 500))\n",
    "\n",
    "    denoised_img1 = cv.bilateralFilter(resized_img, 15, 21, 21)\n",
    "\n",
    "    grey = cv.cvtColor(denoised_img1, cv.COLOR_BGR2GRAY)\n",
    "\n",
    "    adaptive_thresh = cv.adaptiveThreshold(\n",
    "        grey, 255, cv.ADAPTIVE_THRESH_GAUSSIAN_C, cv.THRESH_BINARY_INV, 11, 3\n",
    "    )\n",
    "\n",
    "    kernel = np.ones((3, 3), np.uint8)\n",
    "    dilate = cv.dilate(adaptive_thresh, kernel, iterations=1)\n",
    "\n",
    "    normalize = cv.normalize(\n",
    "        dilate,\n",
    "        None,\n",
    "        alpha=10,\n",
    "        beta=300,\n",
    "        norm_type=cv.NORM_MINMAX,\n",
    "        dtype=cv.WARP_INVERSE_MAP,\n",
    "    )\n",
    "\n",
    "    mask = cv.bitwise_not(normalize)\n",
    "    return mask"
   ]
  }
 ],
 "metadata": {
  "kernelspec": {
   "display_name": "Python 3",
   "language": "python",
   "name": "python3"
  },
  "language_info": {
   "codemirror_mode": {
    "name": "ipython",
    "version": 3
   },
   "file_extension": ".py",
   "mimetype": "text/x-python",
   "name": "python",
   "nbconvert_exporter": "python",
   "pygments_lexer": "ipython3",
   "version": "3.10.10"
  },
  "orig_nbformat": 4
 },
 "nbformat": 4,
 "nbformat_minor": 2
}
