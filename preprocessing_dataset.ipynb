{
 "cells": [
  {
   "cell_type": "code",
   "execution_count": 1,
   "metadata": {},
   "outputs": [],
   "source": [
    "import cv2 as cv\n",
    "import os\n",
    "import numpy as np\n"
   ]
  },
  {
   "cell_type": "code",
   "execution_count": 2,
   "metadata": {},
   "outputs": [],
   "source": [
    "def preprocess_image_level(img_path):\n",
    "    img = cv.imread(img_path)\n",
    "\n",
    "    resized_img = cv.resize(img, (640, 640))\n",
    "\n",
    "    contrast = cv.convertScaleAbs(resized_img, alpha=0.9, beta=0)\n",
    "    grey = cv.cvtColor(contrast, cv.COLOR_BGR2GRAY)\n",
    "    # cv.imshow(\"Blur\", denoised_img)\n",
    "    noise_reduction = cv.GaussianBlur(grey, (9, 9), 0)\n",
    "    adaptive_thresh = cv.adaptiveThreshold(\n",
    "        noise_reduction,\n",
    "        255,\n",
    "        cv.CALIB_CB_ADAPTIVE_THRESH,\n",
    "        cv.THRESH_BINARY_INV,\n",
    "        23,\n",
    "        5,\n",
    "    )\n",
    "\n",
    "    lap = cv.Laplacian(adaptive_thresh, cv.CV_64F)\n",
    "    lap = np.uint8(np.absolute(lap))\n",
    "\n",
    "    kernel = np.ones((5, 5), np.uint8)\n",
    "    dilate = cv.dilate(lap, kernel, iterations=1)\n",
    "\n",
    "    erosion = cv.erode(dilate, (7, 7), iterations=4)\n",
    "\n",
    "    normalize = cv.normalize(\n",
    "        erosion,\n",
    "        None,\n",
    "        alpha=0,\n",
    "        beta=300,\n",
    "        norm_type=cv.NORM_MINMAX,\n",
    "        dtype=cv.WARP_INVERSE_MAP,\n",
    "    )\n",
    "\n",
    "    mask = cv.bitwise_not(normalize)\n",
    "    croped = mask[0:700, 15:640]\n",
    "\n",
    "    return croped"
   ]
  },
  {
   "cell_type": "code",
   "execution_count": 3,
   "metadata": {},
   "outputs": [],
   "source": [
    "img_path = \"/home/uwu/Desktop/object_detection/preview/yolo/1f9e8765-44db-4303-b12a-d6b30c9cc5f9.png\""
   ]
  },
  {
   "cell_type": "code",
   "execution_count": 4,
   "metadata": {},
   "outputs": [
    {
     "ename": "error",
     "evalue": "OpenCV(4.7.0) D:\\a\\opencv-python\\opencv-python\\opencv\\modules\\imgproc\\src\\resize.cpp:4062: error: (-215:Assertion failed) !ssize.empty() in function 'cv::resize'\n",
     "output_type": "error",
     "traceback": [
      "\u001b[1;31m---------------------------------------------------------------------------\u001b[0m",
      "\u001b[1;31merror\u001b[0m                                     Traceback (most recent call last)",
      "Cell \u001b[1;32mIn[4], line 1\u001b[0m\n\u001b[1;32m----> 1\u001b[0m mask \u001b[39m=\u001b[39m preprocess_image_level(img_path)\n\u001b[0;32m      3\u001b[0m cv\u001b[39m.\u001b[39mimshow(\u001b[39m'\u001b[39m\u001b[39mtest\u001b[39m\u001b[39m'\u001b[39m,mask)\n\u001b[0;32m      4\u001b[0m cv\u001b[39m.\u001b[39mwaitKey(\u001b[39m0\u001b[39m)\n",
      "Cell \u001b[1;32mIn[2], line 5\u001b[0m, in \u001b[0;36mpreprocess_image_level\u001b[1;34m(img_path)\u001b[0m\n\u001b[0;32m      1\u001b[0m \u001b[39mdef\u001b[39;00m \u001b[39mpreprocess_image_level\u001b[39m(img_path):\n\u001b[0;32m      3\u001b[0m     img \u001b[39m=\u001b[39m cv\u001b[39m.\u001b[39mimread(img_path)\n\u001b[1;32m----> 5\u001b[0m     resized_img \u001b[39m=\u001b[39m cv\u001b[39m.\u001b[39;49mresize(img, (\u001b[39m640\u001b[39;49m, \u001b[39m640\u001b[39;49m))\n\u001b[0;32m      7\u001b[0m     denoised_img1 \u001b[39m=\u001b[39m cv\u001b[39m.\u001b[39mbilateralFilter(resized_img, \u001b[39m20\u001b[39m, \u001b[39m21\u001b[39m, \u001b[39m21\u001b[39m)\n\u001b[0;32m      9\u001b[0m     grey \u001b[39m=\u001b[39m cv\u001b[39m.\u001b[39mcvtColor(denoised_img1, cv\u001b[39m.\u001b[39mCOLOR_BGR2GRAY)\n",
      "\u001b[1;31merror\u001b[0m: OpenCV(4.7.0) D:\\a\\opencv-python\\opencv-python\\opencv\\modules\\imgproc\\src\\resize.cpp:4062: error: (-215:Assertion failed) !ssize.empty() in function 'cv::resize'\n"
     ]
    }
   ],
   "source": [
    "mask = preprocess_image_level(img_path)\n",
    "\n",
    "cv.imshow(\"test\", mask)\n",
    "cv.waitKey(0)\n",
    "cv.destroyAllWindows()"
   ]
  },
  {
   "cell_type": "code",
   "execution_count": null,
   "metadata": {},
   "outputs": [],
   "source": []
  }
 ],
 "metadata": {
  "kernelspec": {
   "display_name": "Python 3 (ipykernel)",
   "language": "python",
   "name": "python3"
  },
  "language_info": {
   "codemirror_mode": {
    "name": "ipython",
    "version": 3
   },
   "file_extension": ".py",
   "mimetype": "text/x-python",
   "name": "python",
   "nbconvert_exporter": "python",
   "pygments_lexer": "ipython3",
   "version": "3.10.10"
  }
 },
 "nbformat": 4,
 "nbformat_minor": 2
}
