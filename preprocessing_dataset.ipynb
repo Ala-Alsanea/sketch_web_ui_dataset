{
 "cells": [
  {
   "cell_type": "code",
   "execution_count": 1,
   "metadata": {},
   "outputs": [],
   "source": [
    "import cv2 as cv\n",
    "import os\n",
    "import numpy as np"
   ]
  },
  {
   "cell_type": "code",
   "execution_count": 2,
   "metadata": {},
   "outputs": [],
   "source": [
    "def preprocess_image_level(img_path):\n",
    "    img = cv.imread(img_path)\n",
    "\n",
    "    resized = cv.resize(img, (640, 640))\n",
    "\n",
    "    contrast = cv.convertScaleAbs(resized, alpha=0.5, beta=50)\n",
    "\n",
    "    grey = cv.cvtColor(contrast, cv.COLOR_BGR2GRAY)\n",
    "\n",
    "    noise_reduction = cv.fastNlMeansDenoising(grey, None, 5, 7, 15)\n",
    "    adaptive_thresh = cv.adaptiveThreshold(\n",
    "        noise_reduction,\n",
    "        255,\n",
    "        cv.CALIB_CB_ADAPTIVE_THRESH,\n",
    "        cv.THRESH_BINARY_INV,\n",
    "        7,\n",
    "        3,\n",
    "    )\n",
    "\n",
    "    nlabels, labels, stats, _ = cv.connectedComponentsWithStats(\n",
    "        adaptive_thresh, None, None, None, 8, cv.CV_32S\n",
    "    )\n",
    "\n",
    "    sizes = stats[1:, -1]  # get CC_STAT_AREA component\n",
    "    img2 = np.zeros((labels.shape), np.uint8)\n",
    "\n",
    "    for i in range(0, nlabels - 1):\n",
    "        if sizes[i] >= 40:  # filter small dotted regions\n",
    "            img2[labels == i + 1] = 255\n",
    "\n",
    "    dilate = cv.dilate(img2, (8, 8), iterations=3)\n",
    "\n",
    "    erosion = cv.erode(dilate, (2, 2), iterations=1)\n",
    "\n",
    "    result = cv.bitwise_not(erosion)\n",
    "\n",
    "    return result"
   ]
  },
  {
   "cell_type": "code",
   "execution_count": 3,
   "metadata": {},
   "outputs": [],
   "source": [
    "img_path = \"/home/uwu/Desktop/object_detection/preview/yolo/1f9e8765-44db-4303-b12a-d6b30c9cc5f9.png\"\n"
   ]
  },
  {
   "cell_type": "code",
   "execution_count": 4,
   "metadata": {},
   "outputs": [
    {
     "ename": "error",
     "evalue": "OpenCV(4.7.0) D:\\a\\opencv-python\\opencv-python\\opencv\\modules\\imgproc\\src\\resize.cpp:4062: error: (-215:Assertion failed) !ssize.empty() in function 'cv::resize'\n",
     "output_type": "error",
     "traceback": [
      "\u001b[1;31m---------------------------------------------------------------------------\u001b[0m",
      "\u001b[1;31merror\u001b[0m                                     Traceback (most recent call last)",
      "Cell \u001b[1;32mIn[4], line 1\u001b[0m\n\u001b[1;32m----> 1\u001b[0m mask \u001b[39m=\u001b[39m preprocess_image_level(img_path)\n\u001b[0;32m      3\u001b[0m cv\u001b[39m.\u001b[39mimshow(\u001b[39m'\u001b[39m\u001b[39mtest\u001b[39m\u001b[39m'\u001b[39m,mask)\n\u001b[0;32m      4\u001b[0m cv\u001b[39m.\u001b[39mwaitKey(\u001b[39m0\u001b[39m)\n",
      "Cell \u001b[1;32mIn[2], line 5\u001b[0m, in \u001b[0;36mpreprocess_image_level\u001b[1;34m(img_path)\u001b[0m\n\u001b[0;32m      1\u001b[0m \u001b[39mdef\u001b[39;00m \u001b[39mpreprocess_image_level\u001b[39m(img_path):\n\u001b[0;32m      3\u001b[0m     img \u001b[39m=\u001b[39m cv\u001b[39m.\u001b[39mimread(img_path)\n\u001b[1;32m----> 5\u001b[0m     resized_img \u001b[39m=\u001b[39m cv\u001b[39m.\u001b[39;49mresize(img, (\u001b[39m640\u001b[39;49m, \u001b[39m640\u001b[39;49m))\n\u001b[0;32m      7\u001b[0m     denoised_img1 \u001b[39m=\u001b[39m cv\u001b[39m.\u001b[39mbilateralFilter(resized_img, \u001b[39m20\u001b[39m, \u001b[39m21\u001b[39m, \u001b[39m21\u001b[39m)\n\u001b[0;32m      9\u001b[0m     grey \u001b[39m=\u001b[39m cv\u001b[39m.\u001b[39mcvtColor(denoised_img1, cv\u001b[39m.\u001b[39mCOLOR_BGR2GRAY)\n",
      "\u001b[1;31merror\u001b[0m: OpenCV(4.7.0) D:\\a\\opencv-python\\opencv-python\\opencv\\modules\\imgproc\\src\\resize.cpp:4062: error: (-215:Assertion failed) !ssize.empty() in function 'cv::resize'\n"
     ]
    }
   ],
   "source": [
    "mask = preprocess_image_level(img_path)\n",
    "\n",
    "cv.imshow(\"test\", mask)\n",
    "cv.waitKey(0)\n",
    "cv.destroyAllWindows()\n"
   ]
  },
  {
   "cell_type": "code",
   "execution_count": null,
   "metadata": {},
   "outputs": [],
   "source": []
  }
 ],
 "metadata": {
  "kernelspec": {
   "display_name": "Python 3 (ipykernel)",
   "language": "python",
   "name": "python3"
  },
  "language_info": {
   "codemirror_mode": {
    "name": "ipython",
    "version": 3
   },
   "file_extension": ".py",
   "mimetype": "text/x-python",
   "name": "python",
   "nbconvert_exporter": "python",
   "pygments_lexer": "ipython3",
   "version": "3.10.10"
  }
 },
 "nbformat": 4,
 "nbformat_minor": 2
}
